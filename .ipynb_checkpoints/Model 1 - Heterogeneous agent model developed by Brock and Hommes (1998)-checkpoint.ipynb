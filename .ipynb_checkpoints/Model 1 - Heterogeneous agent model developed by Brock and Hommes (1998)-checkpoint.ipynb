{
 "cells": [
  {
   "cell_type": "markdown",
   "id": "5b75f043",
   "metadata": {},
   "source": [
    "# Model 1 - Predicting Bitcoin Prieces: Heterogeneous agent model developed by Brock and Hommes (1998)"
   ]
  },
  {
   "cell_type": "markdown",
   "id": "f397752b",
   "metadata": {},
   "source": [
    "Author: Amin Boulouma"
   ]
  },
  {
   "cell_type": "markdown",
   "id": "8ad7cb2f",
   "metadata": {},
   "source": [
    "The first model we use is based on the standard framework for estimating the speculative bubble component in asset prices. This model assumes that asset prices can be decomposed into two components: a fundamental component and a speculative component. The fundamental component is driven by the intrinsic value of the asset, while the speculative component is driven by market sentiment and investors' expectations.\n",
    "\n",
    "To estimate the fundamental component of Bitcoin prices, we use a range of economic indicators, including the hash rate, transaction volume, and mining difficulty. We also consider the macroeconomic environment, such as inflation rates and interest rates, to account for the broader economic context in which Bitcoin operates.\n",
    "\n",
    "To estimate the speculative component of Bitcoin prices, we use a variety of technical indicators, including moving averages, relative strength index (RSI), and the stochastic oscillator. We also use sentiment analysis of social media and news articles to gauge market sentiment and investor expectations.\n",
    "\n",
    "## The Model\n",
    "\n",
    "The Heterogeneous agent model developed by Brock and Hommes (1998) assumes that the asset price $P_t$ can be decomposed into a fundamental component $F_t$ and a speculative component $S_t$ as follows:\n",
    "\n",
    "$$P_t = F_t + S_t$$\n",
    "\n",
    "We can apply this formula for the Bitcoin price.\n",
    "\n",
    "The fundamental component of Bitcoin prices can be estimated using the following equation:\n",
    "\n",
    "$$F_t = \\omega_0 + \\sum_{j=1}^{N} \\omega_j X_{j,t}$$\n",
    "\n",
    "where $F_t$ is the fundamental component of Bitcoin prices at time $t$, $X_{j,t}$ are the **economic indicators** and **macroeconomic factors** at time $t$, $N$ is the total number of indicators and factors, and $\\omega_j$ are the corresponding weights.\n",
    "\n",
    "$$ F_t = \\omega_0 + w_1 \\cdot H_t + w_2 \\cdot TV_t + w_3 \\cdot MD_t + w_4 \\cdot IR_t $$\n",
    "\n",
    "Where:\n",
    "\n",
    "- $F_t$ is the fundamental component of Bitcoin prices at time $t$\n",
    "- $H_t$ is the hash rate of the Bitcoin network at time $t$\n",
    "- $TV_t$ is the transaction volume on the Bitcoin network at time $t$\n",
    "- $MD_t$ is the mining difficulty of the Bitcoin network at time $t$\n",
    "- $IR_t$ is the inflation rate at time $t$\n",
    "- $w_1, w_2, w_3 and $w_4$ are weights assigned to each of the economic indicators and macroeconomic factors, respectively.\n",
    "\n",
    "The speculative component of Bitcoin prices can be estimated using the following equation:\n",
    "\n",
    "$$S_t = \\sum_{j=1}^{M} \\alpha_j Y_{j,t} + \\beta S_{t-1}$$\n",
    "\n",
    "where $S_t$ is the speculative component of Bitcoin prices at time $t$, $Y_{j,t}$ are the **technical indicators** and **sentiment analysis** at time $t$, $M$ is the total number of technical indicators and sentiment analysis, $\\alpha_j$ are the corresponding weights, and $\\beta$ is the persistence parameter.\n",
    "\n",
    "$Y_{j,t}$, which represents the $j$th technical indicator or sentiment analysis at time $t$, can be written as:\n",
    "\n",
    "$$Y_{j,t} = f_j (P_t, V_t, M_t, N_t, S_t, A_t, E_t)$$\n",
    "\n",
    "where $P_t$ is the price of Bitcoin at time $t$, $V_t$ is the trading volume of Bitcoin at time $t$, $M_t$ is the mining difficulty of Bitcoin at time $t$, $N_t$ is the number of active Bitcoin nodes at time $t$, $S_t$ is the market sentiment of Bitcoin at time $t$, $A_t$ is the adoption rate of Bitcoin at time $t$, and $E_t$ is the external news and events related to Bitcoin at time $t$. The function $f_j$ represents the specific technical indicator or sentiment analysis being used, and may have different inputs and parameters depending on the indicator.\n",
    "\n",
    "For example, the formula for the moving average indicator ($MA$) with a window size of $k$ can be written as:\n",
    "\n",
    "$$Y_{MA,t} = \\frac{1}{k} \\sum_{i=t-k+1}^{t} P_i$$\n",
    "\n",
    "where $P_i$ is the price of Bitcoin at time $i$.\n",
    "\n",
    "Similarly, the formula for the relative strength index ($RSI$) with a window size of $k$ can be written as:\n",
    "\n",
    "$$Y_{RSI,t} = 100 - \\frac{100}{1 + RS}$$\n",
    "\n",
    "where $RS$ is the relative strength at time $t$, which is calculated as:\n",
    "\n",
    "$$RS = \\frac{\\sum_{i=t-k+1}^{t} Max(P_i - P_{i-1}, 0)}{\\sum_{i=t-k+1}^{t} |P_i - P_{i-1}|}$$\n",
    "\n",
    "The formula for the stochastic oscillator ($SO$) with a window size of $k$ can be written as:\n",
    "\n",
    "$$Y_{SO,t} = \\frac{P_t - Min_{k}(P)}{Max_{k}(P) - Min_{k}(P)} \\times 100$$\n",
    "\n",
    "where $Min_{k}(P)$ and $Max_{k}(P)$ are the minimum and maximum prices of Bitcoin over the past $k$ periods, respectively.\n",
    "\n",
    "The sentiment analysis indicator ($SA$) at time $t$ can be written as:\n",
    "\n",
    "$$Y_{SA,t} = f_{SA}(T_t, A_t, E_t)$$\n",
    "\n",
    "where $T_t$ is the text data extracted from news articles and social media related to Bitcoin at time $t$, and $f_{SA}$ is a function that processes the text data to generate a sentiment score. The sentiment score may be based on techniques such as keyword analysis, natural language processing, or machine learning."
   ]
  },
  {
   "cell_type": "markdown",
   "id": "f15b686a",
   "metadata": {},
   "source": [
    "## The implementation"
   ]
  },
  {
   "cell_type": "markdown",
   "id": "ba5e197b",
   "metadata": {},
   "source": [
    "1. Import necessary libraries:\n"
   ]
  },
  {
   "cell_type": "code",
   "execution_count": 1,
   "id": "05d6c827",
   "metadata": {},
   "outputs": [],
   "source": [
    "import numpy as np\n",
    "import pandas as pd\n",
    "import requests\n",
    "import seaborn as sns\n",
    "import matplotlib.pyplot as plt\n",
    "from datetime import datetime\n",
    "import nltk\n",
    "from nltk.sentiment import SentimentIntensityAnalyzer"
   ]
  },
  {
   "cell_type": "markdown",
   "id": "a9d4c553",
   "metadata": {},
   "source": [
    "2. Collect historical price data of Bitcoin:\n"
   ]
  },
  {
   "cell_type": "code",
   "execution_count": 2,
   "id": "00512227",
   "metadata": {},
   "outputs": [
    {
     "name": "stderr",
     "output_type": "stream",
     "text": [
      "/Users/macbook/opt/anaconda3/lib/python3.9/site-packages/IPython/core/interactiveshell.py:3444: DtypeWarning: Columns (146) have mixed types.Specify dtype option on import or set low_memory=False.\n",
      "  exec(code_obj, self.user_global_ns, self.user_ns)\n"
     ]
    }
   ],
   "source": [
    "btc_full = pd.read_csv(\"datasets/btc.csv\")"
   ]
  },
  {
   "cell_type": "markdown",
   "id": "ff7a3466",
   "metadata": {},
   "source": [
    "3. Define function to calculate moving average:\n"
   ]
  },
  {
   "cell_type": "code",
   "execution_count": 3,
   "id": "671c3fa0",
   "metadata": {},
   "outputs": [],
   "source": [
    "def moving_average(df, n):\n",
    "    \"\"\"\n",
    "    df: dataframe containing the price data\n",
    "    n: window size of moving average\n",
    "    \"\"\"\n",
    "    ma = df['Adj Close'].rolling(n).mean()\n",
    "    return ma"
   ]
  },
  {
   "cell_type": "markdown",
   "id": "4cf56fe0",
   "metadata": {},
   "source": [
    "4. Define function to calculate relative strength index:\n"
   ]
  },
  {
   "cell_type": "code",
   "execution_count": 4,
   "id": "894b9b71",
   "metadata": {},
   "outputs": [],
   "source": [
    "def rsi(df, n):\n",
    "    \"\"\"\n",
    "    df: dataframe containing the price data\n",
    "    n: window size of RSI\n",
    "    \"\"\"\n",
    "    delta = df['Adj Close'].diff()\n",
    "    gain = delta.where(delta>0, 0)\n",
    "    loss = -delta.where(delta<0, 0)\n",
    "    avg_gain = gain.rolling(n).mean()\n",
    "    avg_loss = loss.rolling(n).mean()\n",
    "    rs = avg_gain / avg_loss\n",
    "    rsi = 100 - (100 / (1 + rs))\n",
    "    return rsi"
   ]
  },
  {
   "cell_type": "markdown",
   "id": "398dd985",
   "metadata": {},
   "source": [
    "5. Define function to calculate stochastic oscillator:\n"
   ]
  },
  {
   "cell_type": "code",
   "execution_count": 5,
   "id": "d719efe0",
   "metadata": {},
   "outputs": [],
   "source": [
    "def stochastic_oscillator(df, n):\n",
    "    \"\"\"\n",
    "    df: dataframe containing the price data\n",
    "    n: window size of stochastic oscillator\n",
    "    \"\"\"\n",
    "    lowest_low = df['Low'].rolling(n).min()\n",
    "    highest_high = df['High'].rolling(n).max()\n",
    "    k = 100 * (df['Adj Close'] - lowest_low) / (highest_high - lowest_low)\n",
    "    return k"
   ]
  },
  {
   "cell_type": "markdown",
   "id": "efe25a9f",
   "metadata": {},
   "source": [
    "6. Collect necessary data for estimating the fundamental component of Bitcoin prices:\n",
    "\n",
    "The inflation rate and interest rate of Bitcoin can be calculated using the following data:\n",
    "\n",
    "- `IssTotNtv`: The total number of Bitcoins that have been mined since the creation of the Bitcoin network.\n",
    "- `SplyCur`: The current circulating supply of Bitcoin.\n",
    "\n",
    "To calculate the inflation rate, we can use the following formula:\n",
    "\n",
    "```inflation_rate = IssTotNtv / SplyCur)``\n",
    "\n",
    "This formula calculates the percentage increase in the total supply of Bitcoin since its creation, and subtracts 1 to convert it to a percentage increase per year. As of February 23, 2023, the inflation rate of Bitcoin is approximately 1.58%."
   ]
  },
  {
   "cell_type": "code",
   "execution_count": 6,
   "id": "38c991e1",
   "metadata": {
    "scrolled": true
   },
   "outputs": [
    {
     "data": {
      "text/html": [
       "<div>\n",
       "<style scoped>\n",
       "    .dataframe tbody tr th:only-of-type {\n",
       "        vertical-align: middle;\n",
       "    }\n",
       "\n",
       "    .dataframe tbody tr th {\n",
       "        vertical-align: top;\n",
       "    }\n",
       "\n",
       "    .dataframe thead th {\n",
       "        text-align: right;\n",
       "    }\n",
       "</style>\n",
       "<table border=\"1\" class=\"dataframe\">\n",
       "  <thead>\n",
       "    <tr style=\"text-align: right;\">\n",
       "      <th></th>\n",
       "      <th>time</th>\n",
       "      <th>Price</th>\n",
       "      <th>hash_rate</th>\n",
       "      <th>transaction_volume</th>\n",
       "      <th>mining_difficulty</th>\n",
       "      <th>inflation_rate</th>\n",
       "    </tr>\n",
       "  </thead>\n",
       "  <tbody>\n",
       "    <tr>\n",
       "      <th>561</th>\n",
       "      <td>2010-07-18</td>\n",
       "      <td>0.085840</td>\n",
       "      <td>1.552225e-03</td>\n",
       "      <td>1.474778e+03</td>\n",
       "      <td>1.815433e+02</td>\n",
       "      <td>0.002494</td>\n",
       "    </tr>\n",
       "    <tr>\n",
       "      <th>562</th>\n",
       "      <td>2010-07-19</td>\n",
       "      <td>0.080800</td>\n",
       "      <td>1.570274e-03</td>\n",
       "      <td>3.251693e+03</td>\n",
       "      <td>1.815433e+02</td>\n",
       "      <td>0.002517</td>\n",
       "    </tr>\n",
       "    <tr>\n",
       "      <th>563</th>\n",
       "      <td>2010-07-20</td>\n",
       "      <td>0.074736</td>\n",
       "      <td>1.633446e-03</td>\n",
       "      <td>1.200497e+03</td>\n",
       "      <td>1.815433e+02</td>\n",
       "      <td>0.002611</td>\n",
       "    </tr>\n",
       "    <tr>\n",
       "      <th>564</th>\n",
       "      <td>2010-07-21</td>\n",
       "      <td>0.079193</td>\n",
       "      <td>1.868085e-03</td>\n",
       "      <td>1.649916e+03</td>\n",
       "      <td>1.815433e+02</td>\n",
       "      <td>0.002978</td>\n",
       "    </tr>\n",
       "    <tr>\n",
       "      <th>565</th>\n",
       "      <td>2010-07-22</td>\n",
       "      <td>0.058470</td>\n",
       "      <td>1.588324e-03</td>\n",
       "      <td>1.932369e+03</td>\n",
       "      <td>1.815433e+02</td>\n",
       "      <td>0.002525</td>\n",
       "    </tr>\n",
       "    <tr>\n",
       "      <th>...</th>\n",
       "      <td>...</td>\n",
       "      <td>...</td>\n",
       "      <td>...</td>\n",
       "      <td>...</td>\n",
       "      <td>...</td>\n",
       "      <td>...</td>\n",
       "    </tr>\n",
       "    <tr>\n",
       "      <th>5161</th>\n",
       "      <td>2023-02-20</td>\n",
       "      <td>24797.843036</td>\n",
       "      <td>2.861319e+08</td>\n",
       "      <td>2.811605e+09</td>\n",
       "      <td>3.915640e+13</td>\n",
       "      <td>0.000048</td>\n",
       "    </tr>\n",
       "    <tr>\n",
       "      <th>5162</th>\n",
       "      <td>2023-02-21</td>\n",
       "      <td>24400.389390</td>\n",
       "      <td>3.250614e+08</td>\n",
       "      <td>3.665580e+09</td>\n",
       "      <td>3.915640e+13</td>\n",
       "      <td>0.000054</td>\n",
       "    </tr>\n",
       "    <tr>\n",
       "      <th>5163</th>\n",
       "      <td>2023-02-22</td>\n",
       "      <td>24163.738981</td>\n",
       "      <td>2.725065e+08</td>\n",
       "      <td>3.396857e+09</td>\n",
       "      <td>3.915640e+13</td>\n",
       "      <td>0.000045</td>\n",
       "    </tr>\n",
       "    <tr>\n",
       "      <th>5164</th>\n",
       "      <td>2023-02-23</td>\n",
       "      <td>23910.034210</td>\n",
       "      <td>3.328473e+08</td>\n",
       "      <td>3.312575e+09</td>\n",
       "      <td>3.915640e+13</td>\n",
       "      <td>0.000055</td>\n",
       "    </tr>\n",
       "    <tr>\n",
       "      <th>5165</th>\n",
       "      <td>2023-02-24</td>\n",
       "      <td>23175.824204</td>\n",
       "      <td>2.627742e+08</td>\n",
       "      <td>4.347353e+09</td>\n",
       "      <td>3.915640e+13</td>\n",
       "      <td>0.000044</td>\n",
       "    </tr>\n",
       "  </tbody>\n",
       "</table>\n",
       "<p>4605 rows × 6 columns</p>\n",
       "</div>"
      ],
      "text/plain": [
       "            time         Price     hash_rate  transaction_volume  \\\n",
       "561   2010-07-18      0.085840  1.552225e-03        1.474778e+03   \n",
       "562   2010-07-19      0.080800  1.570274e-03        3.251693e+03   \n",
       "563   2010-07-20      0.074736  1.633446e-03        1.200497e+03   \n",
       "564   2010-07-21      0.079193  1.868085e-03        1.649916e+03   \n",
       "565   2010-07-22      0.058470  1.588324e-03        1.932369e+03   \n",
       "...          ...           ...           ...                 ...   \n",
       "5161  2023-02-20  24797.843036  2.861319e+08        2.811605e+09   \n",
       "5162  2023-02-21  24400.389390  3.250614e+08        3.665580e+09   \n",
       "5163  2023-02-22  24163.738981  2.725065e+08        3.396857e+09   \n",
       "5164  2023-02-23  23910.034210  3.328473e+08        3.312575e+09   \n",
       "5165  2023-02-24  23175.824204  2.627742e+08        4.347353e+09   \n",
       "\n",
       "      mining_difficulty  inflation_rate  \n",
       "561        1.815433e+02        0.002494  \n",
       "562        1.815433e+02        0.002517  \n",
       "563        1.815433e+02        0.002611  \n",
       "564        1.815433e+02        0.002978  \n",
       "565        1.815433e+02        0.002525  \n",
       "...                 ...             ...  \n",
       "5161       3.915640e+13        0.000048  \n",
       "5162       3.915640e+13        0.000054  \n",
       "5163       3.915640e+13        0.000045  \n",
       "5164       3.915640e+13        0.000055  \n",
       "5165       3.915640e+13        0.000044  \n",
       "\n",
       "[4605 rows x 6 columns]"
      ]
     },
     "execution_count": 6,
     "metadata": {},
     "output_type": "execute_result"
    }
   ],
   "source": [
    "# extract required columns\n",
    "time = btc_full['time']\n",
    "price = btc_full['PriceUSD']\n",
    "hash_rate = btc_full['HashRate']\n",
    "transaction_volume = btc_full['TxTfrValAdjUSD']\n",
    "mining_difficulty = btc_full['DiffMean']\n",
    "issuance = btc_full['IssTotNtv']\n",
    "supply = btc_full['SplyCur']\n",
    "\n",
    "# calculate inflation rate and interest rate\n",
    "inflation_rate = issuance / supply\n",
    "\n",
    "# construct dataframe with required columns\n",
    "df = pd.DataFrame({\n",
    "    'time': time,\n",
    "    'Price': price,\n",
    "    'hash_rate': hash_rate,\n",
    "    'transaction_volume': transaction_volume,\n",
    "    'mining_difficulty': mining_difficulty,\n",
    "    'inflation_rate': inflation_rate,\n",
    "})\n",
    "\n",
    "btc = pd.DataFrame(df)\n",
    "# Drop NA\n",
    "btc = btc.dropna()\n",
    "btc"
   ]
  },
  {
   "cell_type": "markdown",
   "id": "01a296f8",
   "metadata": {},
   "source": [
    "7. Visualize the data"
   ]
  },
  {
   "cell_type": "markdown",
   "id": "6f786d2c",
   "metadata": {},
   "source": [
    "Line plot of Bitcoin Price over Time:"
   ]
  },
  {
   "cell_type": "code",
   "execution_count": 7,
   "id": "cf689567",
   "metadata": {},
   "outputs": [
    {
     "data": {
      "image/png": "[encoded data removed]",
      "text/plain": [
       "<Figure size 432x288 with 1 Axes>"
      ]
     },
     "metadata": {
      "needs_background": "light"
     },
     "output_type": "display_data"
    }
   ],
   "source": [
    "df = btc\n",
    "\n",
    "df['time'] = pd.to_datetime(df['time'], format='%Y-%m-%d') # convert to datetime format\n",
    "df['year'] = df['time'].dt.year # create a new column for year\n",
    "\n",
    "plt.plot(df['time'], df['Price'])\n",
    "plt.xlabel('Time')\n",
    "plt.ylabel('Price')\n",
    "plt.title('Bitcoin Price over Time')\n",
    "plt.xticks(rotation=90)\n",
    "plt.show()\n"
   ]
  },
  {
   "cell_type": "markdown",
   "id": "e809f5be",
   "metadata": {},
   "source": [
    "A line plot is a basic visualization that shows the trend of a variable over time. In this case, the line plot of Bitcoin price over time shows the change in price of Bitcoin over a certain period. This plot helps to easily observe the upward or downward trends of Bitcoin price and also helps to identify patterns such as seasonality, trends, and cycles.\n",
    "\n"
   ]
  },
  {
   "cell_type": "markdown",
   "id": "47dae924",
   "metadata": {},
   "source": [
    "Scatter plot of Hash Rate vs. Mining Difficulty:"
   ]
  },
  {
   "cell_type": "code",
   "execution_count": 8,
   "id": "0d057ab6",
   "metadata": {
    "scrolled": true
   },
   "outputs": [
    {
     "data": {
      "image/png": "[encoded data removed]",
      "text/plain": [
       "<Figure size 432x288 with 1 Axes>"
      ]
     },
     "metadata": {
      "needs_background": "light"
     },
     "output_type": "display_data"
    }
   ],
   "source": [
    "plt.scatter(df['hash_rate'], df['mining_difficulty'])\n",
    "plt.xlabel('Hash Rate')\n",
    "plt.ylabel('Mining Difficulty')\n",
    "plt.title('Hash Rate vs. Mining Difficulty')\n",
    "plt.show()"
   ]
  },
  {
   "cell_type": "markdown",
   "id": "b852d06c",
   "metadata": {},
   "source": [
    "A scatter plot is a graphical representation of the relationship between two variables. In this plot, hash rate and mining difficulty are represented on the X-axis and Y-axis, respectively. Scatter plot of hash rate vs. mining difficulty helps to identify the correlation between the two variables. If the points in the plot are closer together, there is a strong correlation between the two variables."
   ]
  },
  {
   "cell_type": "markdown",
   "id": "454fdf07",
   "metadata": {},
   "source": [
    "Bar plot of Transaction Volume per Year:"
   ]
  },
  {
   "cell_type": "code",
   "execution_count": 9,
   "id": "b539add6",
   "metadata": {},
   "outputs": [
    {
     "data": {
      "image/png": "[encoded data removed]",
      "text/plain": [
       "<Figure size 432x288 with 1 Axes>"
      ]
     },
     "metadata": {
      "needs_background": "light"
     },
     "output_type": "display_data"
    }
   ],
   "source": [
    "import pandas as pd\n",
    "import matplotlib.pyplot as plt\n",
    "\n",
    "tv_per_year = df.groupby('year')['transaction_volume'].sum()\n",
    "\n",
    "plt.bar(tv_per_year.index, tv_per_year.values)\n",
    "plt.xlabel('Year')\n",
    "plt.ylabel('Transaction Volume')\n",
    "plt.title('Transaction Volume per Year')\n",
    "plt.show()\n"
   ]
  },
  {
   "cell_type": "markdown",
   "id": "bea0e807",
   "metadata": {},
   "source": [
    "A bar plot is a graphical representation of the distribution of a categorical variable. In this plot, the transaction volume is grouped by year and represented by vertical bars. The height of each bar indicates the transaction volume for each year. This plot helps to compare the transaction volume for different years and also shows the trend in transaction volume over time."
   ]
  },
  {
   "cell_type": "markdown",
   "id": "dbef5be4",
   "metadata": {},
   "source": [
    "Area plot of Inflation Rate over Time:\n"
   ]
  },
  {
   "cell_type": "code",
   "execution_count": 10,
   "id": "4cfd0827",
   "metadata": {
    "scrolled": true
   },
   "outputs": [
    {
     "data": {
      "image/png": "[encoded data removed]",
      "text/plain": [
       "<Figure size 432x288 with 1 Axes>"
      ]
     },
     "metadata": {
      "needs_background": "light"
     },
     "output_type": "display_data"
    }
   ],
   "source": [
    "plt.fill_between(df['time'], df['inflation_rate'], color='blue', alpha=0.2)\n",
    "plt.legend(['Inflation Rate', 'Interest Rate'])\n",
    "plt.xlabel('Time')\n",
    "plt.ylabel('Rate')\n",
    "plt.title('Inflation Rate over Time')\n",
    "plt.show()"
   ]
  },
  {
   "cell_type": "markdown",
   "id": "4324b5b1",
   "metadata": {},
   "source": [
    "An area plot is a plot that represents the magnitude of a variable over time. In this plot, inflation rate and interest rate are represented by the area under their respective curves. The plot helps to show the change in inflation rate and interest rate over time and also the magnitude of the difference between the two variables. It helps to observe the trend of the variables and the seasonality, trends, and cycles that they exhibit.\n",
    "\n",
    "\n",
    "\n"
   ]
  },
  {
   "cell_type": "markdown",
   "id": "141c94b7",
   "metadata": {},
   "source": [
    "Scatter plot of Price vs. Hash Rate over time:\n"
   ]
  },
  {
   "cell_type": "code",
   "execution_count": 11,
   "id": "7fd3dc26",
   "metadata": {},
   "outputs": [
    {
     "data": {
      "image/png": "[encoded data removed]",
      "text/plain": [
       "<Figure size 432x288 with 2 Axes>"
      ]
     },
     "metadata": {
      "needs_background": "light"
     },
     "output_type": "display_data"
    }
   ],
   "source": [
    "\n",
    "plt.scatter(df['time'], df['Price'], c=df['hash_rate'], cmap='coolwarm')\n",
    "plt.xlabel('Time')\n",
    "plt.ylabel('Price (USD)')\n",
    "plt.title('Price vs Hash Rate over Time')\n",
    "plt.colorbar(label='Hash Rate')\n",
    "plt.show()\n"
   ]
  },
  {
   "cell_type": "markdown",
   "id": "4451375d",
   "metadata": {},
   "source": [
    "This scatter plot shows the relationship between the price of Bitcoin and the hash rate (computational power used for mining) over time. The color of each data point represents the hash rate. We can see that as the hash rate increases, the price tends to increase as well.\n",
    "\n"
   ]
  },
  {
   "cell_type": "markdown",
   "id": "caf2eade",
   "metadata": {},
   "source": [
    "Line plot of Inflation Rate over time:\n"
   ]
  },
  {
   "cell_type": "code",
   "execution_count": 12,
   "id": "9261b3b1",
   "metadata": {},
   "outputs": [
    {
     "data": {
      "image/png": "[encoded data removed]",
      "text/plain": [
       "<Figure size 432x288 with 1 Axes>"
      ]
     },
     "metadata": {
      "needs_background": "light"
     },
     "output_type": "display_data"
    }
   ],
   "source": [
    "plt.plot(df['time'], df['inflation_rate'])\n",
    "plt.xlabel('Time')\n",
    "plt.ylabel('Inflation Rate')\n",
    "plt.title('Inflation Rate over Time')\n",
    "plt.show()\n"
   ]
  },
  {
   "cell_type": "markdown",
   "id": "349777cb",
   "metadata": {},
   "source": [
    "This line plot shows the inflation rate of Bitcoin over time. We can see that the inflation rate was very high in the early years of Bitcoin's existence, but has gradually decreased as the supply of Bitcoin has approached its maximum limit of 21 million.\n",
    "\n"
   ]
  },
  {
   "cell_type": "markdown",
   "id": "47eacd44",
   "metadata": {},
   "source": [
    "Stacked bar chart of Mining Difficulty by year:\n"
   ]
  },
  {
   "cell_type": "code",
   "execution_count": 13,
   "id": "b7951639",
   "metadata": {},
   "outputs": [
    {
     "data": {
      "image/png": "[encoded data removed]",
      "text/plain": [
       "<Figure size 432x288 with 1 Axes>"
      ]
     },
     "metadata": {
      "needs_background": "light"
     },
     "output_type": "display_data"
    }
   ],
   "source": [
    "df_difficulty = df.groupby('year')['mining_difficulty'].sum()\n",
    "\n",
    "plt.bar(df_difficulty.index, df_difficulty)\n",
    "plt.xlabel('Year')\n",
    "plt.ylabel('Mining Difficulty')\n",
    "plt.title('Mining Difficulty by Year')\n",
    "plt.show()\n"
   ]
  },
  {
   "cell_type": "markdown",
   "id": "80c3fca2",
   "metadata": {},
   "source": [
    "This stacked bar chart shows the total mining difficulty of Bitcoin for each year. We can see that the mining difficulty has increased dramatically over time, which reflects the increasing competition among miners to solve the complex mathematical problems required to validate transactions and earn Bitcoin rewards.\n",
    "\n"
   ]
  },
  {
   "cell_type": "markdown",
   "id": "00248496",
   "metadata": {},
   "source": [
    "Heatmap of Correlation between Variables:\n"
   ]
  },
  {
   "cell_type": "code",
   "execution_count": 14,
   "id": "5d0dac69",
   "metadata": {
    "scrolled": true
   },
   "outputs": [
    {
     "data": {
      "image/png": "[encoded data removed]",
      "text/plain": [
       "<Figure size 432x288 with 2 Axes>"
      ]
     },
     "metadata": {
      "needs_background": "light"
     },
     "output_type": "display_data"
    }
   ],
   "source": [
    "corr = df.corr()\n",
    "sns.heatmap(corr, cmap='coolwarm')\n",
    "plt.title('Correlation between Variables')\n",
    "plt.show()\n"
   ]
  },
  {
   "cell_type": "markdown",
   "id": "7b3dce46",
   "metadata": {},
   "source": [
    "This heatmap shows the correlation between all of the variables in the df dataframe. We can see that there is a strong positive correlation between Price and Market Cap, as well as between Hash Rate and Mining Difficulty. There is also a negative correlation between Inflation Rate and ROI 1 Year, which makes sense since a high inflation rate would tend to decrease the ROI for Bitcoin investors.\n"
   ]
  },
  {
   "cell_type": "markdown",
   "id": "75ae16c6",
   "metadata": {},
   "source": [
    "7. Define function to estimate the fundamental component of Bitcoin prices:\n"
   ]
  },
  {
   "cell_type": "code",
   "execution_count": 15,
   "id": "d9fa89bc",
   "metadata": {},
   "outputs": [],
   "source": [
    "def estimate_fundamental_component(df, w):\n",
    "    \"\"\"\n",
    "    df: dataframe containing the economic indicators and macroeconomic factors\n",
    "    w: weights assigned to each of the economic indicators and macroeconomic factors\n",
    "    \"\"\"\n",
    "    fundamental = w[0] + w[1]*df['Hash Rate'] + w[2]*df['Volume'] + w[3]*df['Mining Difficulty'] + w[4]*df['Inflation Rate'] + w[5]*df['Interest Rate']\n",
    "    return fundamental"
   ]
  },
  {
   "cell_type": "markdown",
   "id": "78663e68",
   "metadata": {},
   "source": [
    "8. Collect necessary data for estimating the speculative component of Bitcoin prices:"
   ]
  },
  {
   "cell_type": "code",
   "execution_count": null,
   "id": "a72512df",
   "metadata": {},
   "outputs": [],
   "source": []
  },
  {
   "cell_type": "markdown",
   "id": "684b4642",
   "metadata": {},
   "source": [
    "9. Define the weights for the economic indicators and macroeconomic factors. For example:\n"
   ]
  },
  {
   "cell_type": "code",
   "execution_count": 16,
   "id": "0829041f",
   "metadata": {},
   "outputs": [],
   "source": [
    "# Define the weights\n",
    "w0 = 0\n",
    "w1 = 0.000000007\n",
    "w2 = 0.00000001\n",
    "w3 = 0.000000002\n",
    "w4 = 2.2"
   ]
  },
  {
   "cell_type": "markdown",
   "id": "9ffd5ae1",
   "metadata": {},
   "source": [
    "10. Calculate the fundamental component of Bitcoin prices at time t using the equation for $F_t$:\n"
   ]
  },
  {
   "cell_type": "code",
   "execution_count": 17,
   "id": "6ab03688",
   "metadata": {},
   "outputs": [],
   "source": [
    "btc['F_t'] = w0 + w1 * btc['hash_rate'] + w2 * btc['transaction_volume'] + w3 * btc['mining_difficulty'] + w4 * btc['inflation_rate'] "
   ]
  },
  {
   "cell_type": "code",
   "execution_count": 18,
   "id": "a9081e57",
   "metadata": {},
   "outputs": [
    {
     "data": {
      "text/html": [
       "<div>\n",
       "<style scoped>\n",
       "    .dataframe tbody tr th:only-of-type {\n",
       "        vertical-align: middle;\n",
       "    }\n",
       "\n",
       "    .dataframe tbody tr th {\n",
       "        vertical-align: top;\n",
       "    }\n",
       "\n",
       "    .dataframe thead th {\n",
       "        text-align: right;\n",
       "    }\n",
       "</style>\n",
       "<table border=\"1\" class=\"dataframe\">\n",
       "  <thead>\n",
       "    <tr style=\"text-align: right;\">\n",
       "      <th></th>\n",
       "      <th>time</th>\n",
       "      <th>Price</th>\n",
       "      <th>hash_rate</th>\n",
       "      <th>transaction_volume</th>\n",
       "      <th>mining_difficulty</th>\n",
       "      <th>inflation_rate</th>\n",
       "      <th>year</th>\n",
       "      <th>F_t</th>\n",
       "    </tr>\n",
       "  </thead>\n",
       "  <tbody>\n",
       "    <tr>\n",
       "      <th>561</th>\n",
       "      <td>2010-07-18</td>\n",
       "      <td>0.085840</td>\n",
       "      <td>1.552225e-03</td>\n",
       "      <td>1.474778e+03</td>\n",
       "      <td>1.815433e+02</td>\n",
       "      <td>0.002494</td>\n",
       "      <td>2010</td>\n",
       "      <td>0.005503</td>\n",
       "    </tr>\n",
       "    <tr>\n",
       "      <th>562</th>\n",
       "      <td>2010-07-19</td>\n",
       "      <td>0.080800</td>\n",
       "      <td>1.570274e-03</td>\n",
       "      <td>3.251693e+03</td>\n",
       "      <td>1.815433e+02</td>\n",
       "      <td>0.002517</td>\n",
       "      <td>2010</td>\n",
       "      <td>0.005570</td>\n",
       "    </tr>\n",
       "    <tr>\n",
       "      <th>563</th>\n",
       "      <td>2010-07-20</td>\n",
       "      <td>0.074736</td>\n",
       "      <td>1.633446e-03</td>\n",
       "      <td>1.200497e+03</td>\n",
       "      <td>1.815433e+02</td>\n",
       "      <td>0.002611</td>\n",
       "      <td>2010</td>\n",
       "      <td>0.005757</td>\n",
       "    </tr>\n",
       "    <tr>\n",
       "      <th>564</th>\n",
       "      <td>2010-07-21</td>\n",
       "      <td>0.079193</td>\n",
       "      <td>1.868085e-03</td>\n",
       "      <td>1.649916e+03</td>\n",
       "      <td>1.815433e+02</td>\n",
       "      <td>0.002978</td>\n",
       "      <td>2010</td>\n",
       "      <td>0.006568</td>\n",
       "    </tr>\n",
       "    <tr>\n",
       "      <th>565</th>\n",
       "      <td>2010-07-22</td>\n",
       "      <td>0.058470</td>\n",
       "      <td>1.588324e-03</td>\n",
       "      <td>1.932369e+03</td>\n",
       "      <td>1.815433e+02</td>\n",
       "      <td>0.002525</td>\n",
       "      <td>2010</td>\n",
       "      <td>0.005575</td>\n",
       "    </tr>\n",
       "    <tr>\n",
       "      <th>...</th>\n",
       "      <td>...</td>\n",
       "      <td>...</td>\n",
       "      <td>...</td>\n",
       "      <td>...</td>\n",
       "      <td>...</td>\n",
       "      <td>...</td>\n",
       "      <td>...</td>\n",
       "      <td>...</td>\n",
       "    </tr>\n",
       "    <tr>\n",
       "      <th>5161</th>\n",
       "      <td>2023-02-20</td>\n",
       "      <td>24797.843036</td>\n",
       "      <td>2.861319e+08</td>\n",
       "      <td>2.811605e+09</td>\n",
       "      <td>3.915640e+13</td>\n",
       "      <td>0.000048</td>\n",
       "      <td>2023</td>\n",
       "      <td>78342.919195</td>\n",
       "    </tr>\n",
       "    <tr>\n",
       "      <th>5162</th>\n",
       "      <td>2023-02-21</td>\n",
       "      <td>24400.389390</td>\n",
       "      <td>3.250614e+08</td>\n",
       "      <td>3.665580e+09</td>\n",
       "      <td>3.915640e+13</td>\n",
       "      <td>0.000054</td>\n",
       "      <td>2023</td>\n",
       "      <td>78351.731470</td>\n",
       "    </tr>\n",
       "    <tr>\n",
       "      <th>5163</th>\n",
       "      <td>2023-02-22</td>\n",
       "      <td>24163.738981</td>\n",
       "      <td>2.725065e+08</td>\n",
       "      <td>3.396857e+09</td>\n",
       "      <td>3.915640e+13</td>\n",
       "      <td>0.000045</td>\n",
       "      <td>2023</td>\n",
       "      <td>78348.676333</td>\n",
       "    </tr>\n",
       "    <tr>\n",
       "      <th>5164</th>\n",
       "      <td>2023-02-23</td>\n",
       "      <td>23910.034210</td>\n",
       "      <td>3.328473e+08</td>\n",
       "      <td>3.312575e+09</td>\n",
       "      <td>3.915640e+13</td>\n",
       "      <td>0.000055</td>\n",
       "      <td>2023</td>\n",
       "      <td>78348.255922</td>\n",
       "    </tr>\n",
       "    <tr>\n",
       "      <th>5165</th>\n",
       "      <td>2023-02-24</td>\n",
       "      <td>23175.824204</td>\n",
       "      <td>2.627742e+08</td>\n",
       "      <td>4.347353e+09</td>\n",
       "      <td>3.915640e+13</td>\n",
       "      <td>0.000044</td>\n",
       "      <td>2023</td>\n",
       "      <td>78358.113167</td>\n",
       "    </tr>\n",
       "  </tbody>\n",
       "</table>\n",
       "<p>4605 rows × 8 columns</p>\n",
       "</div>"
      ],
      "text/plain": [
       "           time         Price     hash_rate  transaction_volume  \\\n",
       "561  2010-07-18      0.085840  1.552225e-03        1.474778e+03   \n",
       "562  2010-07-19      0.080800  1.570274e-03        3.251693e+03   \n",
       "563  2010-07-20      0.074736  1.633446e-03        1.200497e+03   \n",
       "564  2010-07-21      0.079193  1.868085e-03        1.649916e+03   \n",
       "565  2010-07-22      0.058470  1.588324e-03        1.932369e+03   \n",
       "...         ...           ...           ...                 ...   \n",
       "5161 2023-02-20  24797.843036  2.861319e+08        2.811605e+09   \n",
       "5162 2023-02-21  24400.389390  3.250614e+08        3.665580e+09   \n",
       "5163 2023-02-22  24163.738981  2.725065e+08        3.396857e+09   \n",
       "5164 2023-02-23  23910.034210  3.328473e+08        3.312575e+09   \n",
       "5165 2023-02-24  23175.824204  2.627742e+08        4.347353e+09   \n",
       "\n",
       "      mining_difficulty  inflation_rate  year           F_t  \n",
       "561        1.815433e+02        0.002494  2010      0.005503  \n",
       "562        1.815433e+02        0.002517  2010      0.005570  \n",
       "563        1.815433e+02        0.002611  2010      0.005757  \n",
       "564        1.815433e+02        0.002978  2010      0.006568  \n",
       "565        1.815433e+02        0.002525  2010      0.005575  \n",
       "...                 ...             ...   ...           ...  \n",
       "5161       3.915640e+13        0.000048  2023  78342.919195  \n",
       "5162       3.915640e+13        0.000054  2023  78351.731470  \n",
       "5163       3.915640e+13        0.000045  2023  78348.676333  \n",
       "5164       3.915640e+13        0.000055  2023  78348.255922  \n",
       "5165       3.915640e+13        0.000044  2023  78358.113167  \n",
       "\n",
       "[4605 rows x 8 columns]"
      ]
     },
     "execution_count": 18,
     "metadata": {},
     "output_type": "execute_result"
    }
   ],
   "source": [
    "btc"
   ]
  },
  {
   "cell_type": "code",
   "execution_count": 19,
   "id": "841e4e13",
   "metadata": {},
   "outputs": [
    {
     "data": {
      "image/png": "[encoded data removed]",
      "text/plain": [
       "<Figure size 432x288 with 1 Axes>"
      ]
     },
     "metadata": {
      "needs_background": "light"
     },
     "output_type": "display_data"
    }
   ],
   "source": [
    "# create a line plot of F_t against time\n",
    "plt.plot(btc['time'], btc['F_t'])\n",
    "\n",
    "# set the title of the plot\n",
    "plt.title('Plot of F_t against time')\n",
    "\n",
    "# set the x-axis label\n",
    "plt.xlabel('Time')\n",
    "\n",
    "# set the y-axis label\n",
    "plt.ylabel('F_t')\n",
    "\n",
    "# show the plot\n",
    "plt.show()"
   ]
  },
  {
   "cell_type": "markdown",
   "id": "32becd7d",
   "metadata": {},
   "source": [
    "We can note here the similarity between the Bitcoin Price and the Fundamental price till it gets to the end where the prediction does not follow the Bitcoin bear market trend."
   ]
  },
  {
   "cell_type": "markdown",
   "id": "6f20535f",
   "metadata": {},
   "source": [
    "11. Define the weights for the technical indicators and sentiment analysis. For example:\n"
   ]
  },
  {
   "cell_type": "code",
   "execution_count": 20,
   "id": "e81a0353",
   "metadata": {},
   "outputs": [],
   "source": [
    "alpha1 = 0.4  # weight for moving average\n",
    "alpha2 = 0.3  # weight for relative strength index\n",
    "alpha3 = 0.2  # weight for stochastic oscillator\n",
    "alpha4 = 0.1  # weight for sentiment analysis\n",
    "beta = 0.5  # persistence parameter"
   ]
  },
  {
   "cell_type": "markdown",
   "id": "d306b475",
   "metadata": {},
   "source": [
    "12. Define a function $f_j$ to calculate the value of each technical indicator and sentiment analysis at time $t$. For example:\n"
   ]
  },
  {
   "cell_type": "code",
   "execution_count": 21,
   "id": "63c32c72",
   "metadata": {},
   "outputs": [],
   "source": [
    "def moving_average(P, k):\n",
    "    return sum(P[-k:]) / k\n",
    "\n",
    "def relative_strength_index(P, k):\n",
    "    delta = [P[i] - P[i-1] for i in range(1, len(P))]\n",
    "    up = [d if d > 0 else 0 for d in delta]\n",
    "    down = [abs(d) if d < 0 else 0 for d in delta]\n",
    "    rs = sum(up[-k:]) / sum(down[-k:])\n",
    "    return 100 - 100 / (1 + rs)\n",
    "\n",
    "def stochastic_oscillator(P, k):\n",
    "    min_price = min(P[-k:])\n",
    "    max_price = max(P[-k:])\n",
    "    return (P[-1] - min_price) / (max_price - min_price) * 100\n",
    "\n",
    "def sentiment_analysis(market_sentiment, news_sentiment):\n",
    "    return (market_sentiment + news_sentiment) / 2"
   ]
  },
  {
   "cell_type": "markdown",
   "id": "ba96bc04",
   "metadata": {},
   "source": [
    "13. Calculate the value of each technical indicator and sentiment analysis at time t using the corresponding function $f_j$. For example:\n"
   ]
  },
  {
   "cell_type": "code",
   "execution_count": 22,
   "id": "9d361fd1",
   "metadata": {},
   "outputs": [],
   "source": [
    "P = np.array(btc[\"Price\"])\n",
    "\n",
    "Y1_t = alpha1 * moving_average(P, k=30)\n",
    "Y2_t = alpha2 * relative_strength_index(P, k=14)\n",
    "Y3_t = alpha3 * stochastic_oscillator(P, k=14)\n",
    "# Y4_t = alpha4 * sentiment_analysis(market_sentiment, news_sentiment)"
   ]
  },
  {
   "cell_type": "markdown",
   "id": "9f0d5945",
   "metadata": {},
   "source": [
    "14. Calculate the speculative component of Bitcoin prices at time $t$ using the equation for $S_t$:\n"
   ]
  },
  {
   "cell_type": "code",
   "execution_count": 24,
   "id": "f93789e9",
   "metadata": {
    "scrolled": true
   },
   "outputs": [],
   "source": [
    "# S_t = sum([Y1_t, Y2_t, Y3_t, Y4_t]) + beta * S_t_1"
   ]
  },
  {
   "cell_type": "markdown",
   "id": "39be2191",
   "metadata": {},
   "source": [
    "15. Calculate the total price of Bitcoin at time $t$ by adding the fundamental component $F_t$ and the speculative component $S_t$:\n"
   ]
  },
  {
   "cell_type": "code",
   "execution_count": null,
   "id": "cca472f9",
   "metadata": {},
   "outputs": [],
   "source": [
    "# F_t = btc['F_t']\n",
    "\n",
    "# P_t = F_t + S_t"
   ]
  },
  {
   "cell_type": "markdown",
   "id": "3d83abd1",
   "metadata": {},
   "source": [
    "16. Repeat steps 2-14 for each time period $t$ in the dataset.\n"
   ]
  },
  {
   "cell_type": "markdown",
   "id": "ad3dff55",
   "metadata": {},
   "source": [
    "## Reference\n",
    "- we use the data from: https://coinmetrics.io/community-network-data/"
   ]
  }
 ],
 "metadata": {
  "kernelspec": {
   "display_name": "Python 3 (ipykernel)",
   "language": "python",
   "name": "python3"
  },
  "language_info": {
   "codemirror_mode": {
    "name": "ipython",
    "version": 3
   },
   "file_extension": ".py",
   "mimetype": "text/x-python",
   "name": "python",
   "nbconvert_exporter": "python",
   "pygments_lexer": "ipython3",
   "version": "3.9.7"
  }
 },
 "nbformat": 4,
 "nbformat_minor": 5
}
