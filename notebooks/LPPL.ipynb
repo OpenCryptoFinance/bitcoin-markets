{
 "cells": [
  {
   "cell_type": "markdown",
   "id": "d2badefd",
   "metadata": {},
   "source": [
    "## The Log-Periodic Power Law (LPPL) by Didier Sornette (1990)\n",
    "Boulouma A., 2023"
   ]
  },
  {
   "cell_type": "markdown",
   "id": "9b859a2a",
   "metadata": {},
   "source": [
    "The Log-Periodic Power Law (LPPL) model is a tool used to predict speculative bubbles in financial markets. The LPPL model is based on the theory that asset prices can experience exponential growth rates in the short term, but will eventually experience a crash as market participants realize that the asset is overvalued.\n",
    "\n",
    "The LPPL model is defined by the following equation:\n",
    "\n",
    "$$\\ln(P_t) = A + B(t_{c-t})^\\beta + C(t_{c-t})^\\beta\\cos[\\omega\\ln(t_{c-t}) - \\phi]$$\n",
    "\n",
    "where,\n",
    "\n",
    "$P_t$ is the price of the asset at time $t$\n",
    "$t_c$ is the critical time of the bubble\n",
    "$A, B, C, \\beta, \\omega,$ and $\\phi$ are the parameters of the model.\n",
    "\n",
    "To apply the LPPL model to Bitcoin prices, we first need to gather historical price data for Bitcoin. We can do this by accessing an API that provides historical price data, such as the Coinbase API.\n",
    "\n",
    "Once we have the historical price data, we can fit the LPPL model to the data using nonlinear regression. The LPPL model has several parameters that need to be estimated, including the critical time, the amplitude, and the frequency.\n",
    "\n",
    "After estimating the LPPL parameters, we can use the model to predict when a speculative bubble is likely to occur. Specifically, we can look for signs of a divergence between the predicted price and the actual price, which is an indication that a bubble may be forming."
   ]
  },
  {
   "cell_type": "code",
   "execution_count": null,
   "id": "816e4195",
   "metadata": {},
   "outputs": [],
   "source": [
    "import pandas as pd\n",
    "import numpy as np\n",
    "import matplotlib.pyplot as plt\n",
    "from scipy.optimize import curve_fit\n",
    "\n",
    "# Get historical Bitcoin prices\n",
    "bitcoin_data = pd.read_csv('bitcoin_prices.csv')\n",
    "\n",
    "# Define the LPPL function\n",
    "def lppl(t, A, B, C, tc, m, omega, phi):\n",
    "    return A + B*((tc-t)**m)*(1 + C*np.cos(omega*np.log(tc-t) + phi))\n",
    "\n",
    "# Define the time variable\n",
    "t = np.arange(len(bitcoin_data))\n",
    "\n",
    "# Fit the LPPL model to the Bitcoin prices\n",
    "popt, pcov = curve_fit(lppl, t, bitcoin_data['Price'])\n",
    "\n",
    "# Extract the LPPL parameters\n",
    "A, B, C, tc, m, omega, phi = popt\n",
    "\n",
    "# Predict future Bitcoin prices using the LPPL model\n",
    "future_t = np.arange(len(bitcoin_data), len(bitcoin_data)+365)\n",
    "future_prices = lppl(future_t, A, B, C, tc, m, omega, phi)\n",
    "\n",
    "# Plot the Bitcoin prices and LPPL fit\n",
    "plt.plot(t, bitcoin_data['Price'], label='Bitcoin Prices')\n",
    "plt.plot(future_t, future_prices, label='LPPL Fit')\n",
    "plt.legend()\n",
    "plt.show()"
   ]
  }
 ],
 "metadata": {
  "kernelspec": {
   "display_name": "Python 3 (ipykernel)",
   "language": "python",
   "name": "python3"
  },
  "language_info": {
   "codemirror_mode": {
    "name": "ipython",
    "version": 3
   },
   "file_extension": ".py",
   "mimetype": "text/x-python",
   "name": "python",
   "nbconvert_exporter": "python",
   "pygments_lexer": "ipython3",
   "version": "3.9.7"
  }
 },
 "nbformat": 4,
 "nbformat_minor": 5
}
