{
 "cells": [
  {
   "cell_type": "markdown",
   "id": "7e0a8b33",
   "metadata": {},
   "source": [
    "# Bayesian regression model: Bayesian regression has been developed by multiple researchers including Harold Jeffreys in the 1940s and Bruno de Finetti in the 1950s\n",
    "\n",
    "Boulouma A., 2023\n",
    "\n",
    "Bayesian regression is a statistical model that allows for prior knowledge about the parameters to be incorporated into the model. The model can be written as:\n",
    "\n",
    "\\begin{equation}\n",
    "y_i = \\boldsymbol{x}_i^{\\top} \\boldsymbol{\\beta} + \\epsilon_i, \\qquad i = 1, \\dots, n,\n",
    "\\end{equation}\n",
    "\n",
    "where $y_i$ is the dependent variable, $\\boldsymbol{x}_i$ is a vector of independent variables, $\\boldsymbol{\\beta}$ is a vector of regression coefficients, and $\\epsilon_i$ is a random error term. In Bayesian regression, the prior distribution for $\\boldsymbol{\\beta}$ is specified as:\n",
    "\n",
    "\\begin{equation}\n",
    "\\boldsymbol{\\beta} \\sim \\mathcal{N}(\\boldsymbol{\\mu}, \\boldsymbol{\\Sigma}),\n",
    "\\end{equation}\n",
    "\n",
    "where $\\mathcal{N}$ denotes the normal distribution, $\\boldsymbol{\\mu}$ is a vector of prior means, and $\\boldsymbol{\\Sigma}$ is a prior covariance matrix.\n"
   ]
  }
 ],
 "metadata": {
  "kernelspec": {
   "display_name": "Python 3 (ipykernel)",
   "language": "python",
   "name": "python3"
  },
  "language_info": {
   "codemirror_mode": {
    "name": "ipython",
    "version": 3
   },
   "file_extension": ".py",
   "mimetype": "text/x-python",
   "name": "python",
   "nbconvert_exporter": "python",
   "pygments_lexer": "ipython3",
   "version": "3.9.7"
  }
 },
 "nbformat": 4,
 "nbformat_minor": 5
}
