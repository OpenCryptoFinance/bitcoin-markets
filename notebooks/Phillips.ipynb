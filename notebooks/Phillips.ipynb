{
 "cells": [
  {
   "cell_type": "markdown",
   "id": "ca69af47",
   "metadata": {},
   "source": [
    "## Modified version of the model proposed by Phillips et al. (2011)\n",
    "\n",
    "Amin Boulouma, 2023"
   ]
  },
  {
   "cell_type": "markdown",
   "id": "822327d0",
   "metadata": {},
   "source": [
    "The second model we use is based on the behavioral finance literature, which suggests that investors' irrational behavior can create speculative bubbles in financial markets. \n",
    "\n",
    "This model assumes that market sentiment and investor behavior are driven by a range of psychological biases, including herding behavior, overconfidence, and confirmation bias.\n",
    "\n",
    "To estimate the speculative bubble component of Bitcoin prices using this model, we use a range of behavioral finance indicators, including the ratio of Bitcoin to the market capitalization of all cryptocurrencies, the Google Trends search volume index for the term \"Bitcoin,\" and the number of Bitcoin-related tweets and Reddit posts.\n"
   ]
  },
  {
   "cell_type": "markdown",
   "id": "f25ed69d",
   "metadata": {},
   "source": [
    "1. I will use the second model, which is based on behavioral finance literature, to estimate the speculative bubble component of Bitcoin prices.\n"
   ]
  },
  {
   "cell_type": "code",
   "execution_count": null,
   "id": "8b680a39",
   "metadata": {},
   "outputs": [],
   "source": [
    "# Load necessary libraries\n",
    "import pandas as pd\n",
    "import numpy as np\n",
    "\n",
    "# Load Bitcoin price data\n",
    "bitcoin_data = pd.read_csv('bitcoin_price_data.csv')\n",
    "\n",
    "# Define a function to calculate the speculative bubble component using behavioral finance indicators\n",
    "def calculate_speculative_bubble(data):\n",
    "    # Calculate the ratio of Bitcoin to the market capitalization of all cryptocurrencies\n",
    "    bitcoin_market_share = data['Bitcoin Market Share']\n",
    "    crypto_market_cap = data['Crypto Market Cap']\n",
    "    bitcoin_market_cap = bitcoin_market_share * crypto_market_cap\n",
    "    bitcoin_market_cap_ratio = bitcoin_market_cap / crypto_market_cap\n",
    "    \n",
    "    # Calculate the Google Trends search volume index for the term \"Bitcoin\"\n",
    "    google_trends_index = data['Google Trends Index']\n",
    "    \n",
    "    # Calculate the number of Bitcoin-related tweets and Reddit posts\n",
    "    twitter_count = data['Twitter Count']\n",
    "    reddit_count = data['Reddit Count']\n",
    "    \n",
    "    # Combine the behavioral finance indicators into a single metric\n",
    "    speculative_bubble = bitcoin_market_cap_ratio + google_trends_index + twitter_count + reddit_count\n",
    "    \n",
    "    return speculative_bubble\n",
    "\n",
    "# Calculate the speculative bubble component for the Bitcoin price data\n",
    "speculative_bubble = calculate_speculative_bubble(bitcoin_data)\n"
   ]
  },
  {
   "cell_type": "markdown",
   "id": "aa36a295",
   "metadata": {},
   "source": [
    "2. I assume that market sentiment and investor behavior are driven by psychological biases such as herding behavior, overconfidence, and confirmation bias.\n"
   ]
  },
  {
   "cell_type": "code",
   "execution_count": null,
   "id": "9dcb857a",
   "metadata": {},
   "outputs": [],
   "source": [
    "# Define a function to calculate the speculative bubble component using behavioral finance indicators and psychological biases\n",
    "def calculate_speculative_bubble_with_bias(data):\n",
    "    # Calculate the speculative bubble component using the calculate_speculative_bubble function defined in Step 1\n",
    "    speculative_bubble = calculate_speculative_bubble(data)\n",
    "    \n",
    "    # Apply a weighting function to the speculative bubble component based on psychological biases\n",
    "    herding_bias = 1.2\n",
    "    overconfidence_bias = 0.8\n",
    "    confirmation_bias = 1.1\n",
    "    speculative_bubble_with_bias = (speculative_bubble * herding_bias * overconfidence_bias * confirmation_bias) / 3\n",
    "    \n",
    "    return speculative_bubble_with_bias\n",
    "\n",
    "# Calculate the speculative bubble component with psychological biases for the Bitcoin price data\n",
    "speculative_bubble_with_bias = calculate_speculative_bubble_with_bias(bitcoin_data)\n"
   ]
  },
  {
   "cell_type": "markdown",
   "id": "4c314a22",
   "metadata": {},
   "source": [
    "3. I will use the speculative bubble component calculated in Steps 1 and 2 to estimate the overall speculative component of Bitcoin prices.\n"
   ]
  },
  {
   "cell_type": "code",
   "execution_count": null,
   "id": "dfcfe93d",
   "metadata": {},
   "outputs": [],
   "source": [
    "# Calculate the overall speculative component of Bitcoin prices\n",
    "overall_speculative_component = speculative_bubble_with_bias / (1 + speculative_bubble_with_bias)\n",
    "\n",
    "# Calculate the fundamental component of Bitcoin prices\n",
    "fundamental_component = 1 - overall_speculative_component\n",
    "\n",
    "# Combine the fundamental and speculative components into a single metric\n",
    "bitcoin_price_estimate = fundamental_component + overall_speculative_component\n"
   ]
  },
  {
   "cell_type": "code",
   "execution_count": null,
   "id": "d0f8792f",
   "metadata": {},
   "outputs": [],
   "source": []
  }
 ],
 "metadata": {
  "kernelspec": {
   "display_name": "Python 3 (ipykernel)",
   "language": "python",
   "name": "python3"
  },
  "language_info": {
   "codemirror_mode": {
    "name": "ipython",
    "version": 3
   },
   "file_extension": ".py",
   "mimetype": "text/x-python",
   "name": "python",
   "nbconvert_exporter": "python",
   "pygments_lexer": "ipython3",
   "version": "3.9.7"
  }
 },
 "nbformat": 4,
 "nbformat_minor": 5
}
