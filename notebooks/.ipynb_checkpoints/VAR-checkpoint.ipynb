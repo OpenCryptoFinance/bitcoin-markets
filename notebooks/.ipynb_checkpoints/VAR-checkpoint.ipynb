{
 "cells": [
  {
   "cell_type": "markdown",
   "id": "10a22c03",
   "metadata": {},
   "source": [
    "\n",
    "\n",
    "# Vector autoregression (VAR) model: Introduced by Clive Granger in the 1960s\n",
    "\n",
    "Boulouma A., 2023\n",
    "\n",
    "The VAR model is a time series model that captures the dynamics of multiple time series variables simultaneously. The VAR model can be written as:\n",
    "\n",
    "$$y_t = A_1 y_{t-1} + ... + A_p y_{t-p} + \\epsilon_t$$\n",
    "\n",
    "where $y_t$ is a $K \\times 1$ vector of variables and $\\epsilon_t$ is a $K \\times 1$ vector of error terms at time $t$. The $A_i$ matrices are $K \\times K$ coefficient matrices for each lag, with $p$ representing the number of lags included in the model. The VAR model assumes that each variable in the system is a function of its own lagged values as well as the lagged values of the other variables in the system.\n",
    "\n",
    "The VAR model can be estimated using least squares or maximum likelihood methods. Once the model is estimated, it can be used for forecasting by iteratively predicting the values of the variables in the system using their own past values and the past values of the other variables in the system."
   ]
  }
 ],
 "metadata": {
  "kernelspec": {
   "display_name": "Python 3 (ipykernel)",
   "language": "python",
   "name": "python3"
  },
  "language_info": {
   "codemirror_mode": {
    "name": "ipython",
    "version": 3
   },
   "file_extension": ".py",
   "mimetype": "text/x-python",
   "name": "python",
   "nbconvert_exporter": "python",
   "pygments_lexer": "ipython3",
   "version": "3.9.7"
  }
 },
 "nbformat": 4,
 "nbformat_minor": 5
}
