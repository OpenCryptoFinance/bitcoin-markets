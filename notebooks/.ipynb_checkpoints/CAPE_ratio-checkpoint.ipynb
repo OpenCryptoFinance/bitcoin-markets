{
 "cells": [
  {
   "cell_type": "markdown",
   "id": "6a88e92b",
   "metadata": {},
   "source": [
    "## Shiller's CAPE Ratio (2000)\n",
    "Boulouma A., 2023"
   ]
  },
  {
   "cell_type": "markdown",
   "id": "2e165622",
   "metadata": {},
   "source": [
    "Shiller's CAPE ratio has been applied to the valuation of Bitcoin in the literature. However, it is important to note that the applicability of traditional stock market valuation models, such as the CAPE ratio, to the cryptocurrency market is still a matter of debate and further research is needed to determine their effectiveness in predicting Bitcoin prices.\n",
    "\n",
    "The cyclically adjusted price-to-earnings (CAPE) ratio, also known as the Shiller PE ratio, is a valuation measure that uses real earnings per share over a 10-year period to smooth out fluctuations in corporate profits that occur over different periods of the business cycle. The formula for calculating the CAPE ratio is as follows:\n",
    "\n",
    "$$CAPE = \\frac{P}{E_{10}}$$\n",
    "\n",
    "where,\n",
    "\n",
    "$P$ is the price of the asset\n",
    "$E_{10}$ is the average of the inflation-adjusted earnings of the asset over the previous 10 years"
   ]
  },
  {
   "cell_type": "markdown",
   "id": "ac771d04",
   "metadata": {},
   "source": [
    "Shiller's CAPE ratio has been applied to the valuation of Bitcoin in the literature. However, it is important to note that the applicability of traditional stock market valuation models, such as the CAPE ratio, to the cryptocurrency market is still a matter of debate and further research is needed to determine their effectiveness in predicting Bitcoin prices."
   ]
  },
  {
   "cell_type": "markdown",
   "id": "0e1ac0cc",
   "metadata": {},
   "source": [
    "1. Import the necessary libraries: We need to import the libraries required for data manipulation, analysis, and visualization. The most commonly used libraries are pandas, numpy, and matplotlib.\n"
   ]
  },
  {
   "cell_type": "code",
   "execution_count": null,
   "id": "6d3cbc58",
   "metadata": {},
   "outputs": [],
   "source": [
    "import pandas as pd\n",
    "import numpy as np\n",
    "import matplotlib.pyplot as plt\n"
   ]
  },
  {
   "cell_type": "markdown",
   "id": "62fb0c9e",
   "metadata": {},
   "source": [
    "2. Load the Bitcoin price data: We need to load the historical price data of Bitcoin to calculate its CAPE ratio. We can use any reliable cryptocurrency data source such as CoinMarketCap or Yahoo Finance to obtain the data. Here, we assume the data is in CSV format with the date and closing price columns.\n"
   ]
  },
  {
   "cell_type": "code",
   "execution_count": null,
   "id": "ed7add6f",
   "metadata": {},
   "outputs": [],
   "source": [
    "data = pd.read_csv('bitcoin_prices.csv')\n"
   ]
  },
  {
   "cell_type": "markdown",
   "id": "b6e506f6",
   "metadata": {},
   "source": [
    "3. Load the Bitcoin price data: We need to load the historical price data of Bitcoin to calculate its CAPE ratio. We can use any reliable cryptocurrency data source such as CoinMarketCap or Yahoo Finance to obtain the data. Here, we assume the data is in CSV format with the date and closing price columns.\n"
   ]
  },
  {
   "cell_type": "code",
   "execution_count": null,
   "id": "36077eb9",
   "metadata": {},
   "outputs": [],
   "source": [
    "url = \"https://api.blockchain.info/charts/miners-revenue?timespan=all&format=csv\"\n",
    "miners_revenue = pd.read_csv(url)\n",
    "avg_earnings = miners_revenue['y'].mean()\n"
   ]
  },
  {
   "cell_type": "markdown",
   "id": "35a33e54",
   "metadata": {},
   "source": [
    "4. Calculate the average earnings: To calculate the CAPE ratio, we need to determine the average earnings of Bitcoin over the long term. In the case of Bitcoin, earnings can be approximated as the total transaction fees paid to miners per day. We can obtain this data from blockchain.info.\n"
   ]
  },
  {
   "cell_type": "code",
   "execution_count": null,
   "id": "bb1d1378",
   "metadata": {},
   "outputs": [],
   "source": [
    "data['10-year MA'] = data['Closing Price'].rolling(window=3650).mean()\n"
   ]
  },
  {
   "cell_type": "markdown",
   "id": "82ada6bf",
   "metadata": {},
   "source": [
    "5. Calculate the 10-year moving average of Bitcoin prices: The CAPE ratio uses a 10-year moving average of the asset price. We need to calculate the 10-year moving average of Bitcoin's closing price.\n"
   ]
  },
  {
   "cell_type": "code",
   "execution_count": null,
   "id": "4c19e4f0",
   "metadata": {},
   "outputs": [],
   "source": [
    "data['CAPE Ratio'] = data['Closing Price'] / avg_earnings\n"
   ]
  },
  {
   "cell_type": "markdown",
   "id": "eb171c24",
   "metadata": {},
   "source": [
    "6. Calculate the CAPE ratio: The CAPE ratio is calculated by dividing the current price by the average earnings over the long term. In the case of Bitcoin, we divide the current closing price by the average transaction fees paid to miners per day.\n"
   ]
  },
  {
   "cell_type": "code",
   "execution_count": null,
   "id": "dc9d2481",
   "metadata": {},
   "outputs": [],
   "source": [
    "plt.plot(data['Date'], data['CAPE Ratio'])\n",
    "plt.title('Bitcoin CAPE Ratio')\n",
    "plt.xlabel('Year')\n",
    "plt.ylabel('CAPE Ratio')\n",
    "plt.show()\n"
   ]
  }
 ],
 "metadata": {
  "kernelspec": {
   "display_name": "Python 3 (ipykernel)",
   "language": "python",
   "name": "python3"
  },
  "language_info": {
   "codemirror_mode": {
    "name": "ipython",
    "version": 3
   },
   "file_extension": ".py",
   "mimetype": "text/x-python",
   "name": "python",
   "nbconvert_exporter": "python",
   "pygments_lexer": "ipython3",
   "version": "3.9.7"
  }
 },
 "nbformat": 4,
 "nbformat_minor": 5
}
