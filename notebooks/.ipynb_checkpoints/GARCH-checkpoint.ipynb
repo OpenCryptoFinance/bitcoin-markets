{
 "cells": [
  {
   "cell_type": "markdown",
   "id": "84d78584",
   "metadata": {},
   "source": [
    "# GARCH model: Developed by Robert Engle in the 1980s\n",
    "\n",
    "Boulouma A., 2023\n",
    "\n",
    "The GARCH model is a time series model that captures the dynamics of conditional volatility, where the variance of the error term at time $t$ is a function of the errors at previous times. The GARCH model is specified as follows:\n",
    "\n",
    "$$y_t = \\mu_t + \\epsilon_t$$\n",
    "\n",
    "$$\\epsilon_t = \\sigma_t z_t$$\n",
    "\n",
    "$$\\sigma_t^2 = \\omega + \\sum_{i=1}^p \\alpha_i \\epsilon_{t-i}^2 + \\sum_{j=1}^q \\beta_j \\sigma_{t-j}^2$$\n",
    "\n",
    "where $y_t$ is the time series at time $t$, $\\mu_t$ is the conditional mean of the time series, $\\epsilon_t$ is the error term at time $t$, $z_t$ is a random variable with a standard normal distribution, $\\sigma_t^2$ is the conditional variance of the error term at time $t$, $\\omega$ is a constant, $\\alpha_i$ and $\\beta_j$ are coefficients that determine the weight of the squared error terms and the past variances in the current variance, and $p$ and $q$ are the orders of the autoregressive and moving average terms, respectively.\n"
   ]
  }
 ],
 "metadata": {
  "kernelspec": {
   "display_name": "Python 3 (ipykernel)",
   "language": "python",
   "name": "python3"
  },
  "language_info": {
   "codemirror_mode": {
    "name": "ipython",
    "version": 3
   },
   "file_extension": ".py",
   "mimetype": "text/x-python",
   "name": "python",
   "nbconvert_exporter": "python",
   "pygments_lexer": "ipython3",
   "version": "3.9.7"
  }
 },
 "nbformat": 4,
 "nbformat_minor": 5
}
