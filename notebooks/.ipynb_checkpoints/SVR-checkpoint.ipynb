{
 "cells": [
  {
   "cell_type": "markdown",
   "id": "edbce31d",
   "metadata": {},
   "source": [
    "\n",
    "# Support vector regression (SVR) model: Developed by Vladimir Vapnik and Alexey Chervonenkis in the 1990s\n",
    "\n",
    "Boulouma A., 2023\n",
    "\n",
    "The support vector regression (SVR) model is a type of supervised learning algorithm used in machine learning for regression analysis. It was developed by Vladimir Vapnik and Alexey Chervonenkis in the 1990s.\n",
    "\n",
    "The basic idea of SVR is to map the input data to a higher-dimensional feature space using a kernel function, and then find a linear regression function that maximizes the margin between the predicted output and the actual output. The margin is defined as the distance between the hyperplane that separates the predicted outputs and the actual outputs, and the closest points to the hyperplane.\n",
    "\n",
    "Let $\\mathbf{x}$ denote the input vector, and let $y$ denote the output value. The SVR model can be expressed as:\n",
    "\n",
    "$$\n",
    "\\begin{aligned}\n",
    "y &= \\mathbf{w}^T\\Phi(\\mathbf{x}) + b \\\\\n",
    "\\text{subject to } & y_i - \\mathbf{w}^T\\Phi(\\mathbf{x}_i) - b \\le \\epsilon \\\\\n",
    "& \\mathbf{w}^T\\Phi(\\mathbf{x}_i) + b - y_i \\le \\epsilon \\\\\n",
    "& \\mathbf{w}^T\\mathbf{w} \\le C\n",
    "\\end{aligned}\n",
    "$$\n",
    "\n",
    "where $\\Phi(\\mathbf{x})$ is the mapping function that maps the input vector $\\mathbf{x}$ to a higher-dimensional feature space, $\\mathbf{w}$ and $b$ are the weight vector and bias term of the linear regression function, $\\epsilon$ is the tolerance parameter that controls the size of the margin, and $C$ is the regularization parameter that controls the trade-off between maximizing the margin and minimizing the error. The constraints ensure that the predicted outputs are within a certain distance $\\epsilon$ from the actual outputs, and that the weight vector $\\mathbf{w}$ has a norm smaller than or equal to $C$."
   ]
  }
 ],
 "metadata": {
  "kernelspec": {
   "display_name": "Python 3 (ipykernel)",
   "language": "python",
   "name": "python3"
  },
  "language_info": {
   "codemirror_mode": {
    "name": "ipython",
    "version": 3
   },
   "file_extension": ".py",
   "mimetype": "text/x-python",
   "name": "python",
   "nbconvert_exporter": "python",
   "pygments_lexer": "ipython3",
   "version": "3.9.7"
  }
 },
 "nbformat": 4,
 "nbformat_minor": 5
}
