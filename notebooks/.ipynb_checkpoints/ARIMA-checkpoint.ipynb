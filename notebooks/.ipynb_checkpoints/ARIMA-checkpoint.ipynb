{
 "cells": [
  {
   "cell_type": "markdown",
   "id": "0c266925",
   "metadata": {},
   "source": [
    "## ARIMA model: Autoregressive Integrated Moving Average (ARIMA) models: Developed by George Box and Gwilym Jenkins in the 1970s\n",
    "Boulouma A., 2023\n"
   ]
  },
  {
   "cell_type": "markdown",
   "id": "67a7c855",
   "metadata": {},
   "source": [
    "The ARIMA model is used for time series analysis and forecasting. It is represented as ARIMA(p,d,q), where p is the order of the autoregressive (AR) part, d is the order of differencing, and q is the order of the moving average (MA) part. The equation for an ARIMA model is:\n",
    "\n",
    "$$\\phi_p(B)(1-B)^d X_t = \\theta_q(B) \\epsilon_t$$\n",
    "\n",
    "where $X_t$ is the time series, $\\epsilon_t$ is the error term, $\\phi_p$ and $\\theta_q$ are the AR and MA polynomials of order p and q, respectively, $B$ is the backshift operator, and $(1-B)^d$ represents the differencing operation.\n"
   ]
  }
 ],
 "metadata": {
  "kernelspec": {
   "display_name": "Python 3 (ipykernel)",
   "language": "python",
   "name": "python3"
  },
  "language_info": {
   "codemirror_mode": {
    "name": "ipython",
    "version": 3
   },
   "file_extension": ".py",
   "mimetype": "text/x-python",
   "name": "python",
   "nbconvert_exporter": "python",
   "pygments_lexer": "ipython3",
   "version": "3.9.7"
  }
 },
 "nbformat": 4,
 "nbformat_minor": 5
}
