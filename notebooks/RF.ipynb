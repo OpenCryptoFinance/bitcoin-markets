{
 "cells": [
  {
   "cell_type": "markdown",
   "id": "6522171e",
   "metadata": {},
   "source": [
    "\n",
    "\n",
    "# Random Forest model: Developed by Leo Breiman in 2001\n",
    "\n",
    "Boulouma A., 2023\n",
    "\n",
    "The random forest model is an ensemble learning algorithm used for classification and regression analysis. It works by constructing a multitude of decision trees at training time and outputting the class or mean prediction of the individual trees. The random forest model reduces overfitting by aggregating the results of many decision trees.\n",
    "\n",
    "The mathematical equation for the random forest model is as follows:\n",
    "\n",
    "Given a training set ${(x_1, y_1), (x_2, y_2), ..., (x_n, y_n)}$, where $x_i$ is the input data and $y_i$ is the corresponding output, the goal is to find a function $f(x)$ that predicts the output y for a given input $x$.\n",
    "\n",
    "The random forest model constructs $M$ decision trees, each of which is trained on a bootstrapped sample of the training data. At each node of a decision tree, a random subset of the input features is considered for splitting.\n",
    "\n",
    "The prediction of the random forest model is obtained by averaging the predictions of the individual decision trees:\n",
    "\n",
    "$$f(x) = \\frac{1}{M} \\sum_{j=1}^M f_j(x)$$\n",
    "\n",
    "where $f_j(x)$ is the prediction of the $j-th$ decision tree."
   ]
  }
 ],
 "metadata": {
  "kernelspec": {
   "display_name": "Python 3 (ipykernel)",
   "language": "python",
   "name": "python3"
  },
  "language_info": {
   "codemirror_mode": {
    "name": "ipython",
    "version": 3
   },
   "file_extension": ".py",
   "mimetype": "text/x-python",
   "name": "python",
   "nbconvert_exporter": "python",
   "pygments_lexer": "ipython3",
   "version": "3.9.7"
  }
 },
 "nbformat": 4,
 "nbformat_minor": 5
}
