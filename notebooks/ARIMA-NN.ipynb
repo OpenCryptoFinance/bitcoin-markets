{
 "cells": [
  {
   "cell_type": "markdown",
   "id": "6413ce3f",
   "metadata": {},
   "source": [
    "# Time series forecasting using a hybrid ARIMA and neural network model by Zhang, G. P., 2003\n",
    "\n",
    "Boulouma A., 2023\n",
    "\n",
    "The hybrid ARIMA and neural network model proposed by Zhang (2003) combines the strengths of the Autoregressive Integrated Moving Average (ARIMA) model and neural network models to improve the accuracy of time series forecasting. The model is based on the following equation:\n",
    "\n",
    "$$\\hat{y}{t+h|t}=y_t + \\sum{i=1}^{p}\\phi_i(y_{t+1-i}-y_t) + \\sum_{j=1}^{q}\\theta_j\\varepsilon_{t+1-j} + f(y_t, y_{t-1},..., y_{t-p}, \\varepsilon_{t-1}, \\varepsilon_{t-2}, ..., \\varepsilon_{t-q})$$\n",
    "\n",
    "where $\\hat{y}_{t+h|t}$ is the forecast for time $t+h$, given data up to time $t$; $p$ and $q$ are the orders of the autoregressive and moving average parts of the ARIMA model, respectively; $\\phi_i$ and $\\theta_j$ are the corresponding coefficients; $\\varepsilon_t$ is the error term; and $f$ is a neural network model that captures any nonlinear patterns in the data.\n",
    "\n",
    "The neural network component of the model is trained using a backpropagation algorithm to minimize the mean squared error between the actual and predicted values. The weights of the neural network are updated iteratively during the training process until convergence.\n",
    "\n",
    "The hybrid ARIMA and neural network model has been shown to outperform traditional time series models in many applications, including forecasting stock prices, exchange rates, and electricity demand."
   ]
  }
 ],
 "metadata": {
  "kernelspec": {
   "display_name": "Python 3 (ipykernel)",
   "language": "python",
   "name": "python3"
  },
  "language_info": {
   "codemirror_mode": {
    "name": "ipython",
    "version": 3
   },
   "file_extension": ".py",
   "mimetype": "text/x-python",
   "name": "python",
   "nbconvert_exporter": "python",
   "pygments_lexer": "ipython3",
   "version": "3.9.7"
  }
 },
 "nbformat": 4,
 "nbformat_minor": 5
}
