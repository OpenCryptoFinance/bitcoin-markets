{
 "cells": [
  {
   "cell_type": "markdown",
   "id": "992bdb4a",
   "metadata": {},
   "source": [
    "\n",
    "\n",
    "# Bayesian Neural Networks (BNN): Bayesian neural networks have been developed by multiple researchers including David MacKay in the 1990s and Radford Neal in 1995\n",
    "\n",
    "Boulouma A., 2023\n",
    "\n",
    "\n",
    "The Bayesian neural network model is a type of neural network that incorporates Bayesian inference in the training process. It works by placing a prior distribution over the model parameters and using Bayes' rule to update the posterior distribution of the parameters given the training data. The model uses Monte Carlo methods, such as Markov chain Monte Carlo (MCMC), to approximate the posterior distribution.\n",
    "\n",
    "The mathematical equation for the Bayesian neural network model is as follows:\n",
    "\n",
    "Given a training set ${(x_1, y_1), (x_2, y_2), ..., (x_n, y_n)}$, where $x_i$ is the input data and $y_i$ is the corresponding output, the goal is to find a function $f(x)$ that predicts the output $y$ for a given input $x$.\n",
    "\n",
    "The Bayesian neural network model places a prior distribution $p(w)$ over the model parameters $w$ and uses Bayes' rule to update the posterior distribution $p(w|D)$ of the parameters given the training data $D$:\n",
    "\n",
    "$$p(w|D) = \\frac{p(D|w) p(w)}{p(D)}$$\n",
    "\n",
    "where $p(D|w)$ is the likelihood of the data given the parameters, $p(w)$ is the prior distribution, and $p(D)$ is the marginal likelihood of the data."
   ]
  }
 ],
 "metadata": {
  "kernelspec": {
   "display_name": "Python 3 (ipykernel)",
   "language": "python",
   "name": "python3"
  },
  "language_info": {
   "codemirror_mode": {
    "name": "ipython",
    "version": 3
   },
   "file_extension": ".py",
   "mimetype": "text/x-python",
   "name": "python",
   "nbconvert_exporter": "python",
   "pygments_lexer": "ipython3",
   "version": "3.9.7"
  }
 },
 "nbformat": 4,
 "nbformat_minor": 5
}
