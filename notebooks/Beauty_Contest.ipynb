{
 "cells": [
  {
   "cell_type": "markdown",
   "id": "69f7b7ed",
   "metadata": {},
   "source": [
    "## Beauty Contest model of Keynes (1936)\n",
    "Boulouma A., 2023"
   ]
  },
  {
   "cell_type": "markdown",
   "id": "4ffceb09",
   "metadata": {},
   "source": [
    "The Beauty Contest model was introduced by John Maynard Keynes in his 1936 book \"The General Theory of Employment, Interest, and Money.\" The model describes a situation in which participants make decisions based not on their own opinions, but on their perception of what other participants are likely to do. In the context of financial markets, this can lead to the creation of speculative bubbles.\n",
    "\n",
    "To apply the Beauty Contest model to Bitcoin prices, we can simulate a group of participants and ask them to guess the future price of Bitcoin. Each participant's guess will be based on their perception of what other participants are likely to guess.\n",
    "\n",
    "The mathematical equation for the Beauty Contest model is as follows:\n",
    "\n",
    "$$P_n = \\frac{1}{n}\\sum_{i=1}^{n}w_i\\cdot f_i$$\n",
    "\n",
    "where,\n",
    "\n",
    "$P_n$ is the average guess of the $n$ participants\n",
    "$w_i$ is the weight assigned to participant $i$\n",
    "$f_i$ is the guess of participant $i$\n",
    "\n",
    "In the case of the Beauty Contest model of Keynes, the weights are assigned based on the perceived influence of each participant on the market. This can be modeled using a power law distribution, where the weight assigned to participant $i$ is proportional to their perceived influence:\n",
    "\n",
    "$$w_i = k \\cdot i^{-\\alpha}$$\n",
    "\n",
    "where,\n",
    "\n",
    "$k$ is a normalization constant\n",
    "$\\alpha$ is the power law exponent, which controls the distribution of weights\n",
    "\n",
    "By adjusting the value of $\\alpha$, we can simulate different scenarios in which the market is influenced more or less by the opinions of a few highly influential participants.\n"
   ]
  },
  {
   "cell_type": "markdown",
   "id": "372a1cfa",
   "metadata": {},
   "source": [
    "1. Assemble a group of participants: In the beauty contest model, participants are asked to guess the average of a particular value, in this case, the future price of Bitcoin. To simulate this, we can create a list of \"participants\" and ask them to guess the future price."
   ]
  },
  {
   "cell_type": "code",
   "execution_count": null,
   "id": "f0a4fb31",
   "metadata": {},
   "outputs": [],
   "source": [
    "import random\n",
    "\n",
    "num_participants = 10\n",
    "guesses = []\n",
    "for i in range(num_participants):\n",
    "    guess = random.uniform(0, 100000)\n",
    "    guesses.append(guess)\n"
   ]
  },
  {
   "cell_type": "markdown",
   "id": "09f100d9",
   "metadata": {},
   "source": [
    "2. Calculate the average guess: In the beauty contest model, the final prediction is not the actual average guess, but the average of the guesses. To simulate this, we can calculate the average of the guesses.\n"
   ]
  },
  {
   "cell_type": "code",
   "execution_count": null,
   "id": "e38acb51",
   "metadata": {},
   "outputs": [],
   "source": [
    "average_guess = sum(guesses) / len(guesses)\n"
   ]
  },
  {
   "cell_type": "markdown",
   "id": "4fe11501",
   "metadata": {},
   "source": [
    "3. Calculate the winning guess: The winning guess in the beauty contest model is the guess that is closest to two-thirds of the average guess. To simulate this, we can calculate two-thirds of the average guess and find the guess that is closest to it.\n"
   ]
  },
  {
   "cell_type": "code",
   "execution_count": null,
   "id": "521e450f",
   "metadata": {},
   "outputs": [],
   "source": [
    "two_thirds_average = (2 / 3) * average_guess\n",
    "winning_guess = min(guesses, key=lambda x: abs(x - two_thirds_average))\n"
   ]
  },
  {
   "cell_type": "markdown",
   "id": "bafcfded",
   "metadata": {},
   "source": [
    "4. Use the winning guess to estimate Bitcoin prices: Once we have the winning guess, we can use it to estimate the future price of Bitcoin. This can be done by multiplying the current price of Bitcoin by the winning guess.\n"
   ]
  },
  {
   "cell_type": "code",
   "execution_count": null,
   "id": "50c2ebc9",
   "metadata": {},
   "outputs": [],
   "source": [
    "current_price = 50000\n",
    "predicted_price = current_price * winning_guess\n"
   ]
  },
  {
   "cell_type": "markdown",
   "id": "748adf2d",
   "metadata": {},
   "source": [
    "4. Repeat the process: To get a more accurate estimate of the future price, we can repeat this process multiple times with different groups of participants and take the average of the predicted prices.\n"
   ]
  },
  {
   "cell_type": "code",
   "execution_count": null,
   "id": "8e2cc9b4",
   "metadata": {},
   "outputs": [],
   "source": [
    "num_trials = 10\n",
    "predicted_prices = []\n",
    "for i in range(num_trials):\n",
    "    guesses = []\n",
    "    for j in range(num_participants):\n",
    "        guess = random.uniform(0, 100000)\n",
    "        guesses.append(guess)\n",
    "\n",
    "    average_guess = sum(guesses) / len(guesses)\n",
    "    two_thirds_average = (2 / 3) * average_guess\n",
    "    winning_guess = min(guesses, key=lambda x: abs(x - two_thirds_average))\n",
    "\n",
    "    predicted_price = current_price * winning_guess\n",
    "    predicted_prices.append(predicted_price)\n",
    "\n",
    "average_predicted_price = sum(predicted_prices) / len(predicted_prices)\n"
   ]
  },
  {
   "cell_type": "markdown",
   "id": "01965e62",
   "metadata": {},
   "source": [
    "\n"
   ]
  }
 ],
 "metadata": {
  "kernelspec": {
   "display_name": "Python 3 (ipykernel)",
   "language": "python",
   "name": "python3"
  },
  "language_info": {
   "codemirror_mode": {
    "name": "ipython",
    "version": 3
   },
   "file_extension": ".py",
   "mimetype": "text/x-python",
   "name": "python",
   "nbconvert_exporter": "python",
   "pygments_lexer": "ipython3",
   "version": "3.9.7"
  }
 },
 "nbformat": 4,
 "nbformat_minor": 5
}
