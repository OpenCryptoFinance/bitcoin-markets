{
 "cells": [
  {
   "cell_type": "markdown",
   "id": "978b7d49",
   "metadata": {},
   "source": [
    "\n",
    "# Multivariate GARCH (MGARCH) models: Developed by Robert Engle in the 1990s\n",
    "\n",
    "Boulouma A., 2023\n",
    "\n",
    "Developed by Robert Engle in the 1990s, the MGARCH model is an extension of the univariate GARCH model to multivariate time series. It models the conditional variance of each series as a function of its own lagged values and the lagged values of the other series in the system. The mathematical equation for a MGARCH(p, q) model is as follows:\n",
    "\n",
    "$$\\boldsymbol{\\Sigma}_{t} = \\boldsymbol{A}_{0} + \\sum_{i=1}^{p} \\boldsymbol{A}_{i} \\boldsymbol{\\epsilon}_{t-i} \\boldsymbol{\\epsilon}_{t-i}^{\\prime} \\boldsymbol{A}_{i}^{\\prime} + \\sum_{j=1}^{q} \\boldsymbol{B}_{j} \\boldsymbol{\\Sigma}_{t-j} \\boldsymbol{B}_{j}^{\\prime}$$\n",
    "\n",
    "where,\n",
    "\n",
    "- $\\boldsymbol{\\Sigma}_{t}$ is the $k \\times k$ covariance matrix of the error terms at time $t$\n",
    "- $\\boldsymbol{A}_{0}$ is the $k \\times k$ intercept matrix\n",
    "- $\\boldsymbol{A}_{i}$ and $\\boldsymbol{B}_{j}$ are $k \\times k$ coefficient matrices for the error term and covariance matrix, respectively.\n",
    "- $p$ and $q$ are the order of autoregression and moving average terms for the error term and covariance matrix, respectively.\n"
   ]
  }
 ],
 "metadata": {
  "kernelspec": {
   "display_name": "Python 3 (ipykernel)",
   "language": "python",
   "name": "python3"
  },
  "language_info": {
   "codemirror_mode": {
    "name": "ipython",
    "version": 3
   },
   "file_extension": ".py",
   "mimetype": "text/x-python",
   "name": "python",
   "nbconvert_exporter": "python",
   "pygments_lexer": "ipython3",
   "version": "3.9.7"
  }
 },
 "nbformat": 4,
 "nbformat_minor": 5
}
