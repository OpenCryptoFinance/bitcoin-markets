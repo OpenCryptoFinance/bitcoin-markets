{
 "cells": [
  {
   "cell_type": "markdown",
   "id": "f398ddad",
   "metadata": {},
   "source": [
    "# Notes and Assumptions"
   ]
  },
  {
   "cell_type": "markdown",
   "id": "7d58db7a",
   "metadata": {},
   "source": [
    "# Model 1 - Heterogeneous agent model developed by Brock and Hommes (1998)\n",
    "\n",
    "The sentiment analysis indicator ($SA$) at time $t$ can be written as:\n",
    "\n",
    "$$Y_{SA,t} = f_{SA}(T_t, A_t, E_t)$$\n",
    "\n",
    "where $T_t$ is the text data extracted from news articles and social media related to Bitcoin at time $t$, and $f_{SA}$ is a function that processes the text data to generate a sentiment score. The sentiment score may be based on techniques such as keyword analysis, natural language processing, or machine learning.\n",
    "\n",
    "> We didn't use this indicator just yet because of the lack of the data provided on it\n",
    "\n",
    "The model is more or less a linear combination of bitcoin features."
   ]
  },
  {
   "cell_type": "code",
   "execution_count": null,
   "id": "9f21b7f7",
   "metadata": {},
   "outputs": [],
   "source": [
    "# chunk = pd.read_csv(\"datasets/btc_tweets.csv\", chunksize=100000, lineterminator='\\n')\n",
    "# btc_tweets = pd.concat(chunk)"
   ]
  },
  {
   "cell_type": "code",
   "execution_count": null,
   "id": "4213688d",
   "metadata": {},
   "outputs": [],
   "source": [
    "def sentiment_analysis(text):\n",
    "    blob = TextBlob(text)\n",
    "    return blob.sentiment.polarity\n",
    "\n",
    "# text = 'Bitcoin is soaring to new heights!'\n",
    "# btc['SA'] = btc.apply(lambda row: sentiment_analysis(row['Text']), axis=1)\n"
   ]
  },
  {
   "cell_type": "markdown",
   "id": "77c35c4b",
   "metadata": {},
   "source": [
    "> btc sentiment data is not much findable for dates before 2015"
   ]
  },
  {
   "cell_type": "markdown",
   "id": "ddc6d508",
   "metadata": {},
   "source": [
    "> Dropping some NaN values du to indicators, parameter = $k$"
   ]
  },
  {
   "cell_type": "markdown",
   "id": "df9feeca",
   "metadata": {},
   "source": [
    "Add the saving to the calculation part"
   ]
  }
 ],
 "metadata": {
  "kernelspec": {
   "display_name": "Python 3 (ipykernel)",
   "language": "python",
   "name": "python3"
  },
  "language_info": {
   "codemirror_mode": {
    "name": "ipython",
    "version": 3
   },
   "file_extension": ".py",
   "mimetype": "text/x-python",
   "name": "python",
   "nbconvert_exporter": "python",
   "pygments_lexer": "ipython3",
   "version": "3.9.7"
  }
 },
 "nbformat": 4,
 "nbformat_minor": 5
}
